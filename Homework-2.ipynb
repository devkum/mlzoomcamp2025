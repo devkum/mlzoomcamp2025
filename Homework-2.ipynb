{
 "cells": [
  {
   "cell_type": "code",
   "execution_count": 188,
   "id": "c62f766e-d3ef-49f9-9352-641f87006d42",
   "metadata": {},
   "outputs": [],
   "source": [
    "import pandas as pd\n",
    "import numpy as np\n",
    "import matplotlib.pyplot as plt\n",
    "import seaborn as sns\n",
    "\n",
    "%matplotlib inline"
   ]
  },
  {
   "cell_type": "code",
   "execution_count": 189,
   "id": "0c532602-f701-40b5-bb27-95ab615b2bfd",
   "metadata": {},
   "outputs": [],
   "source": [
    "url = 'https://raw.githubusercontent.com/alexeygrigorev/datasets/master/car_fuel_efficiency.csv'\n",
    "df = pd.read_csv(url)"
   ]
  },
  {
   "cell_type": "code",
   "execution_count": 190,
   "id": "bdcb2661-94c4-492a-953e-4948225e80df",
   "metadata": {},
   "outputs": [
    {
     "data": {
      "text/plain": [
       "engine_displacement      int64\n",
       "num_cylinders          float64\n",
       "horsepower             float64\n",
       "vehicle_weight         float64\n",
       "acceleration           float64\n",
       "model_year               int64\n",
       "origin                  object\n",
       "fuel_type               object\n",
       "drivetrain              object\n",
       "num_doors              float64\n",
       "fuel_efficiency_mpg    float64\n",
       "dtype: object"
      ]
     },
     "execution_count": 190,
     "metadata": {},
     "output_type": "execute_result"
    }
   ],
   "source": [
    "df.dtypes"
   ]
  },
  {
   "cell_type": "code",
   "execution_count": 191,
   "id": "7aa8b041-b637-47ea-9528-e291373b9283",
   "metadata": {},
   "outputs": [
    {
     "data": {
      "text/plain": [
       "(9704, 11)"
      ]
     },
     "execution_count": 191,
     "metadata": {},
     "output_type": "execute_result"
    }
   ],
   "source": [
    "df.shape"
   ]
  },
  {
   "cell_type": "code",
   "execution_count": 192,
   "id": "7a9ca83e-e3b0-4d82-b971-a518aa5ed410",
   "metadata": {},
   "outputs": [
    {
     "data": {
      "text/html": [
       "<div>\n",
       "<style scoped>\n",
       "    .dataframe tbody tr th:only-of-type {\n",
       "        vertical-align: middle;\n",
       "    }\n",
       "\n",
       "    .dataframe tbody tr th {\n",
       "        vertical-align: top;\n",
       "    }\n",
       "\n",
       "    .dataframe thead th {\n",
       "        text-align: right;\n",
       "    }\n",
       "</style>\n",
       "<table border=\"1\" class=\"dataframe\">\n",
       "  <thead>\n",
       "    <tr style=\"text-align: right;\">\n",
       "      <th></th>\n",
       "      <th>engine_displacement</th>\n",
       "      <th>num_cylinders</th>\n",
       "      <th>horsepower</th>\n",
       "      <th>vehicle_weight</th>\n",
       "      <th>acceleration</th>\n",
       "      <th>model_year</th>\n",
       "      <th>origin</th>\n",
       "      <th>fuel_type</th>\n",
       "      <th>drivetrain</th>\n",
       "      <th>num_doors</th>\n",
       "      <th>fuel_efficiency_mpg</th>\n",
       "    </tr>\n",
       "  </thead>\n",
       "  <tbody>\n",
       "    <tr>\n",
       "      <th>0</th>\n",
       "      <td>170</td>\n",
       "      <td>3.0</td>\n",
       "      <td>159.0</td>\n",
       "      <td>3413.433759</td>\n",
       "      <td>17.7</td>\n",
       "      <td>2003</td>\n",
       "      <td>Europe</td>\n",
       "      <td>Gasoline</td>\n",
       "      <td>All-wheel drive</td>\n",
       "      <td>0.0</td>\n",
       "      <td>13.231729</td>\n",
       "    </tr>\n",
       "    <tr>\n",
       "      <th>1</th>\n",
       "      <td>130</td>\n",
       "      <td>5.0</td>\n",
       "      <td>97.0</td>\n",
       "      <td>3149.664934</td>\n",
       "      <td>17.8</td>\n",
       "      <td>2007</td>\n",
       "      <td>USA</td>\n",
       "      <td>Gasoline</td>\n",
       "      <td>Front-wheel drive</td>\n",
       "      <td>0.0</td>\n",
       "      <td>13.688217</td>\n",
       "    </tr>\n",
       "    <tr>\n",
       "      <th>2</th>\n",
       "      <td>170</td>\n",
       "      <td>NaN</td>\n",
       "      <td>78.0</td>\n",
       "      <td>3079.038997</td>\n",
       "      <td>15.1</td>\n",
       "      <td>2018</td>\n",
       "      <td>Europe</td>\n",
       "      <td>Gasoline</td>\n",
       "      <td>Front-wheel drive</td>\n",
       "      <td>0.0</td>\n",
       "      <td>14.246341</td>\n",
       "    </tr>\n",
       "    <tr>\n",
       "      <th>3</th>\n",
       "      <td>220</td>\n",
       "      <td>4.0</td>\n",
       "      <td>NaN</td>\n",
       "      <td>2542.392402</td>\n",
       "      <td>20.2</td>\n",
       "      <td>2009</td>\n",
       "      <td>USA</td>\n",
       "      <td>Diesel</td>\n",
       "      <td>All-wheel drive</td>\n",
       "      <td>2.0</td>\n",
       "      <td>16.912736</td>\n",
       "    </tr>\n",
       "    <tr>\n",
       "      <th>4</th>\n",
       "      <td>210</td>\n",
       "      <td>1.0</td>\n",
       "      <td>140.0</td>\n",
       "      <td>3460.870990</td>\n",
       "      <td>14.4</td>\n",
       "      <td>2009</td>\n",
       "      <td>Europe</td>\n",
       "      <td>Gasoline</td>\n",
       "      <td>All-wheel drive</td>\n",
       "      <td>2.0</td>\n",
       "      <td>12.488369</td>\n",
       "    </tr>\n",
       "  </tbody>\n",
       "</table>\n",
       "</div>"
      ],
      "text/plain": [
       "   engine_displacement  num_cylinders  horsepower  vehicle_weight  \\\n",
       "0                  170            3.0       159.0     3413.433759   \n",
       "1                  130            5.0        97.0     3149.664934   \n",
       "2                  170            NaN        78.0     3079.038997   \n",
       "3                  220            4.0         NaN     2542.392402   \n",
       "4                  210            1.0       140.0     3460.870990   \n",
       "\n",
       "   acceleration  model_year  origin fuel_type         drivetrain  num_doors  \\\n",
       "0          17.7        2003  Europe  Gasoline    All-wheel drive        0.0   \n",
       "1          17.8        2007     USA  Gasoline  Front-wheel drive        0.0   \n",
       "2          15.1        2018  Europe  Gasoline  Front-wheel drive        0.0   \n",
       "3          20.2        2009     USA    Diesel    All-wheel drive        2.0   \n",
       "4          14.4        2009  Europe  Gasoline    All-wheel drive        2.0   \n",
       "\n",
       "   fuel_efficiency_mpg  \n",
       "0            13.231729  \n",
       "1            13.688217  \n",
       "2            14.246341  \n",
       "3            16.912736  \n",
       "4            12.488369  "
      ]
     },
     "execution_count": 192,
     "metadata": {},
     "output_type": "execute_result"
    }
   ],
   "source": [
    "df.head()"
   ]
  },
  {
   "cell_type": "code",
   "execution_count": 193,
   "id": "90d40e06-1725-425a-a1e1-c745e1705054",
   "metadata": {},
   "outputs": [
    {
     "data": {
      "text/plain": [
       "engine_displacement      0\n",
       "num_cylinders          482\n",
       "horsepower             708\n",
       "vehicle_weight           0\n",
       "acceleration           930\n",
       "model_year               0\n",
       "origin                   0\n",
       "fuel_type                0\n",
       "drivetrain               0\n",
       "num_doors              502\n",
       "fuel_efficiency_mpg      0\n",
       "dtype: int64"
      ]
     },
     "execution_count": 193,
     "metadata": {},
     "output_type": "execute_result"
    }
   ],
   "source": [
    "df.isnull().sum()"
   ]
  },
  {
   "cell_type": "code",
   "execution_count": 194,
   "id": "65dc27df-2920-4d5b-869a-102439ba0233",
   "metadata": {},
   "outputs": [],
   "source": [
    "#Preparing Data\n",
    "\n",
    "df.columns = df.columns.str.lower().str.replace(' ', '_')\n",
    "\n",
    "for cols in df.columns:\n",
    "    if df[cols].dtypes == 'object':\n",
    "        df[cols] = df[cols].str.lower().str.replace(' ', '_').str.replace('-', '_')"
   ]
  },
  {
   "cell_type": "code",
   "execution_count": 195,
   "id": "a0db1eaa-93c5-4114-ba0c-93f769d78c05",
   "metadata": {},
   "outputs": [
    {
     "data": {
      "text/html": [
       "<div>\n",
       "<style scoped>\n",
       "    .dataframe tbody tr th:only-of-type {\n",
       "        vertical-align: middle;\n",
       "    }\n",
       "\n",
       "    .dataframe tbody tr th {\n",
       "        vertical-align: top;\n",
       "    }\n",
       "\n",
       "    .dataframe thead th {\n",
       "        text-align: right;\n",
       "    }\n",
       "</style>\n",
       "<table border=\"1\" class=\"dataframe\">\n",
       "  <thead>\n",
       "    <tr style=\"text-align: right;\">\n",
       "      <th></th>\n",
       "      <th>engine_displacement</th>\n",
       "      <th>num_cylinders</th>\n",
       "      <th>horsepower</th>\n",
       "      <th>vehicle_weight</th>\n",
       "      <th>acceleration</th>\n",
       "      <th>model_year</th>\n",
       "      <th>origin</th>\n",
       "      <th>fuel_type</th>\n",
       "      <th>drivetrain</th>\n",
       "      <th>num_doors</th>\n",
       "      <th>fuel_efficiency_mpg</th>\n",
       "    </tr>\n",
       "  </thead>\n",
       "  <tbody>\n",
       "    <tr>\n",
       "      <th>0</th>\n",
       "      <td>170</td>\n",
       "      <td>3.0</td>\n",
       "      <td>159.0</td>\n",
       "      <td>3413.433759</td>\n",
       "      <td>17.7</td>\n",
       "      <td>2003</td>\n",
       "      <td>europe</td>\n",
       "      <td>gasoline</td>\n",
       "      <td>all_wheel_drive</td>\n",
       "      <td>0.0</td>\n",
       "      <td>13.231729</td>\n",
       "    </tr>\n",
       "    <tr>\n",
       "      <th>1</th>\n",
       "      <td>130</td>\n",
       "      <td>5.0</td>\n",
       "      <td>97.0</td>\n",
       "      <td>3149.664934</td>\n",
       "      <td>17.8</td>\n",
       "      <td>2007</td>\n",
       "      <td>usa</td>\n",
       "      <td>gasoline</td>\n",
       "      <td>front_wheel_drive</td>\n",
       "      <td>0.0</td>\n",
       "      <td>13.688217</td>\n",
       "    </tr>\n",
       "    <tr>\n",
       "      <th>2</th>\n",
       "      <td>170</td>\n",
       "      <td>NaN</td>\n",
       "      <td>78.0</td>\n",
       "      <td>3079.038997</td>\n",
       "      <td>15.1</td>\n",
       "      <td>2018</td>\n",
       "      <td>europe</td>\n",
       "      <td>gasoline</td>\n",
       "      <td>front_wheel_drive</td>\n",
       "      <td>0.0</td>\n",
       "      <td>14.246341</td>\n",
       "    </tr>\n",
       "    <tr>\n",
       "      <th>3</th>\n",
       "      <td>220</td>\n",
       "      <td>4.0</td>\n",
       "      <td>NaN</td>\n",
       "      <td>2542.392402</td>\n",
       "      <td>20.2</td>\n",
       "      <td>2009</td>\n",
       "      <td>usa</td>\n",
       "      <td>diesel</td>\n",
       "      <td>all_wheel_drive</td>\n",
       "      <td>2.0</td>\n",
       "      <td>16.912736</td>\n",
       "    </tr>\n",
       "    <tr>\n",
       "      <th>4</th>\n",
       "      <td>210</td>\n",
       "      <td>1.0</td>\n",
       "      <td>140.0</td>\n",
       "      <td>3460.870990</td>\n",
       "      <td>14.4</td>\n",
       "      <td>2009</td>\n",
       "      <td>europe</td>\n",
       "      <td>gasoline</td>\n",
       "      <td>all_wheel_drive</td>\n",
       "      <td>2.0</td>\n",
       "      <td>12.488369</td>\n",
       "    </tr>\n",
       "  </tbody>\n",
       "</table>\n",
       "</div>"
      ],
      "text/plain": [
       "   engine_displacement  num_cylinders  horsepower  vehicle_weight  \\\n",
       "0                  170            3.0       159.0     3413.433759   \n",
       "1                  130            5.0        97.0     3149.664934   \n",
       "2                  170            NaN        78.0     3079.038997   \n",
       "3                  220            4.0         NaN     2542.392402   \n",
       "4                  210            1.0       140.0     3460.870990   \n",
       "\n",
       "   acceleration  model_year  origin fuel_type         drivetrain  num_doors  \\\n",
       "0          17.7        2003  europe  gasoline    all_wheel_drive        0.0   \n",
       "1          17.8        2007     usa  gasoline  front_wheel_drive        0.0   \n",
       "2          15.1        2018  europe  gasoline  front_wheel_drive        0.0   \n",
       "3          20.2        2009     usa    diesel    all_wheel_drive        2.0   \n",
       "4          14.4        2009  europe  gasoline    all_wheel_drive        2.0   \n",
       "\n",
       "   fuel_efficiency_mpg  \n",
       "0            13.231729  \n",
       "1            13.688217  \n",
       "2            14.246341  \n",
       "3            16.912736  \n",
       "4            12.488369  "
      ]
     },
     "execution_count": 195,
     "metadata": {},
     "output_type": "execute_result"
    }
   ],
   "source": [
    "df.head()"
   ]
  },
  {
   "cell_type": "code",
   "execution_count": 196,
   "id": "e00a7474-e3ee-441d-91e3-3124955e67d0",
   "metadata": {},
   "outputs": [
    {
     "name": "stdout",
     "output_type": "stream",
     "text": [
      "engine_displacement\n",
      "[170 130 220 210 190]\n",
      "36\n",
      "\n",
      "num_cylinders\n",
      "[ 3.  5. nan  4.  1.]\n",
      "14\n",
      "\n",
      "horsepower\n",
      "[159.  97.  78.  nan 140.]\n",
      "192\n",
      "\n",
      "vehicle_weight\n",
      "[3413.43375861 3149.66493422 3079.03899737 2542.39240183 3460.87098999]\n",
      "9704\n",
      "\n",
      "acceleration\n",
      "[17.7 17.8 15.1 20.2 14.4]\n",
      "162\n",
      "\n",
      "model_year\n",
      "[2003 2007 2018 2009 2008]\n",
      "24\n",
      "\n",
      "origin\n",
      "['europe' 'usa' 'asia']\n",
      "3\n",
      "\n",
      "fuel_type\n",
      "['gasoline' 'diesel']\n",
      "2\n",
      "\n",
      "drivetrain\n",
      "['all_wheel_drive' 'front_wheel_drive']\n",
      "2\n",
      "\n",
      "num_doors\n",
      "[ 0.  2. -1.  1. nan]\n",
      "9\n",
      "\n",
      "fuel_efficiency_mpg\n",
      "[13.23172891 13.68821744 14.246341   16.9127356  12.48836912]\n",
      "9704\n",
      "\n"
     ]
    }
   ],
   "source": [
    "#EDA\n",
    "\n",
    "for col in df.columns:\n",
    "    print(col)\n",
    "    print(df[col].unique()[:5])\n",
    "    print(df[col].nunique())\n",
    "    print()"
   ]
  },
  {
   "cell_type": "code",
   "execution_count": 197,
   "id": "cec4a13b-080b-48a4-b5a5-61cc51b73e74",
   "metadata": {},
   "outputs": [
    {
     "data": {
      "text/plain": [
       "count    9704.000000\n",
       "mean       14.985243\n",
       "std         2.556468\n",
       "min         6.200971\n",
       "25%        13.267459\n",
       "50%        15.006037\n",
       "75%        16.707965\n",
       "max        25.967222\n",
       "Name: fuel_efficiency_mpg, dtype: float64"
      ]
     },
     "execution_count": 197,
     "metadata": {},
     "output_type": "execute_result"
    }
   ],
   "source": [
    "df.fuel_efficiency_mpg.describe()"
   ]
  },
  {
   "cell_type": "code",
   "execution_count": 198,
   "id": "825d5d35-6299-4eae-b796-90216c56dbd8",
   "metadata": {},
   "outputs": [
    {
     "data": {
      "image/png": "[encoded data removed]",
      "text/plain": [
       "<Figure size 640x480 with 1 Axes>"
      ]
     },
     "metadata": {},
     "output_type": "display_data"
    }
   ],
   "source": [
    "sns.histplot(df.fuel_efficiency_mpg, bins=30)\n",
    "plt.show()"
   ]
  },
  {
   "cell_type": "code",
   "execution_count": 199,
   "id": "77db4f81-42df-4968-ace2-5e3a02f2990e",
   "metadata": {},
   "outputs": [
    {
     "data": {
      "text/plain": [
       "count    8996.000000\n",
       "mean      149.657292\n",
       "std        29.879555\n",
       "min        37.000000\n",
       "25%       130.000000\n",
       "50%       149.000000\n",
       "75%       170.000000\n",
       "max       271.000000\n",
       "Name: horsepower, dtype: float64"
      ]
     },
     "execution_count": 199,
     "metadata": {},
     "output_type": "execute_result"
    }
   ],
   "source": [
    "df.horsepower.describe()"
   ]
  },
  {
   "cell_type": "code",
   "execution_count": 200,
   "id": "87051ad7-7bd1-4da2-9772-b06187e35ae3",
   "metadata": {},
   "outputs": [],
   "source": [
    "# Setting up validation framework\n",
    "\n",
    "n_train = int(0.6 * len(df))\n",
    "n_val = int(0.2 * len(df))\n",
    "n_test = int(len(df) - (n_train + n_val))\n",
    "\n",
    "idx = np.arange(len(df))\n",
    "np.random.seed(42)\n",
    "np.random.shuffle(idx)\n",
    "\n",
    "df_train = df.iloc[idx[:n_train], :].copy()\n",
    "df_val = df.iloc[idx[n_train:n_train+n_val], :].copy()\n",
    "df_test = df.iloc[idx[n_train+n_val:], :].copy()\n",
    "\n",
    "y_train = df_train['fuel_efficiency_mpg'].values\n",
    "y_val = df_val['fuel_efficiency_mpg'].values\n",
    "y_test = df_test['fuel_efficiency_mpg'].values\n",
    "\n",
    "del df_train['fuel_efficiency_mpg']\n",
    "del df_val['fuel_efficiency_mpg']\n",
    "del df_test['fuel_efficiency_mpg']"
   ]
  },
  {
   "cell_type": "code",
   "execution_count": 201,
   "id": "86e1f9f6-09fb-4e13-96dd-f0d1ee3e8874",
   "metadata": {},
   "outputs": [
    {
     "data": {
      "text/plain": [
       "(5822, 1940, 1942)"
      ]
     },
     "execution_count": 201,
     "metadata": {},
     "output_type": "execute_result"
    }
   ],
   "source": [
    "n_train, n_val, n_test"
   ]
  },
  {
   "cell_type": "code",
   "execution_count": 202,
   "id": "c4156d0f-c457-45be-a82b-9fa8b06a6d2e",
   "metadata": {},
   "outputs": [
    {
     "data": {
      "text/html": [
       "<div>\n",
       "<style scoped>\n",
       "    .dataframe tbody tr th:only-of-type {\n",
       "        vertical-align: middle;\n",
       "    }\n",
       "\n",
       "    .dataframe tbody tr th {\n",
       "        vertical-align: top;\n",
       "    }\n",
       "\n",
       "    .dataframe thead th {\n",
       "        text-align: right;\n",
       "    }\n",
       "</style>\n",
       "<table border=\"1\" class=\"dataframe\">\n",
       "  <thead>\n",
       "    <tr style=\"text-align: right;\">\n",
       "      <th></th>\n",
       "      <th>engine_displacement</th>\n",
       "      <th>num_cylinders</th>\n",
       "      <th>horsepower</th>\n",
       "      <th>vehicle_weight</th>\n",
       "      <th>acceleration</th>\n",
       "      <th>model_year</th>\n",
       "      <th>origin</th>\n",
       "      <th>fuel_type</th>\n",
       "      <th>drivetrain</th>\n",
       "      <th>num_doors</th>\n",
       "    </tr>\n",
       "  </thead>\n",
       "  <tbody>\n",
       "    <tr>\n",
       "      <th>483</th>\n",
       "      <td>220</td>\n",
       "      <td>3.0</td>\n",
       "      <td>144.0</td>\n",
       "      <td>2535.887591</td>\n",
       "      <td>18.7</td>\n",
       "      <td>2009</td>\n",
       "      <td>usa</td>\n",
       "      <td>gasoline</td>\n",
       "      <td>all_wheel_drive</td>\n",
       "      <td>2.0</td>\n",
       "    </tr>\n",
       "    <tr>\n",
       "      <th>7506</th>\n",
       "      <td>160</td>\n",
       "      <td>2.0</td>\n",
       "      <td>141.0</td>\n",
       "      <td>2741.170484</td>\n",
       "      <td>14.3</td>\n",
       "      <td>2019</td>\n",
       "      <td>asia</td>\n",
       "      <td>diesel</td>\n",
       "      <td>front_wheel_drive</td>\n",
       "      <td>2.0</td>\n",
       "    </tr>\n",
       "    <tr>\n",
       "      <th>8795</th>\n",
       "      <td>230</td>\n",
       "      <td>3.0</td>\n",
       "      <td>155.0</td>\n",
       "      <td>2471.880237</td>\n",
       "      <td>NaN</td>\n",
       "      <td>2017</td>\n",
       "      <td>asia</td>\n",
       "      <td>diesel</td>\n",
       "      <td>front_wheel_drive</td>\n",
       "      <td>2.0</td>\n",
       "    </tr>\n",
       "    <tr>\n",
       "      <th>1688</th>\n",
       "      <td>150</td>\n",
       "      <td>3.0</td>\n",
       "      <td>206.0</td>\n",
       "      <td>3748.164469</td>\n",
       "      <td>15.5</td>\n",
       "      <td>2015</td>\n",
       "      <td>usa</td>\n",
       "      <td>gasoline</td>\n",
       "      <td>all_wheel_drive</td>\n",
       "      <td>1.0</td>\n",
       "    </tr>\n",
       "    <tr>\n",
       "      <th>6217</th>\n",
       "      <td>300</td>\n",
       "      <td>4.0</td>\n",
       "      <td>111.0</td>\n",
       "      <td>2135.716359</td>\n",
       "      <td>16.9</td>\n",
       "      <td>2006</td>\n",
       "      <td>usa</td>\n",
       "      <td>gasoline</td>\n",
       "      <td>all_wheel_drive</td>\n",
       "      <td>NaN</td>\n",
       "    </tr>\n",
       "  </tbody>\n",
       "</table>\n",
       "</div>"
      ],
      "text/plain": [
       "      engine_displacement  num_cylinders  horsepower  vehicle_weight  \\\n",
       "483                   220            3.0       144.0     2535.887591   \n",
       "7506                  160            2.0       141.0     2741.170484   \n",
       "8795                  230            3.0       155.0     2471.880237   \n",
       "1688                  150            3.0       206.0     3748.164469   \n",
       "6217                  300            4.0       111.0     2135.716359   \n",
       "\n",
       "      acceleration  model_year origin fuel_type         drivetrain  num_doors  \n",
       "483           18.7        2009    usa  gasoline    all_wheel_drive        2.0  \n",
       "7506          14.3        2019   asia    diesel  front_wheel_drive        2.0  \n",
       "8795           NaN        2017   asia    diesel  front_wheel_drive        2.0  \n",
       "1688          15.5        2015    usa  gasoline    all_wheel_drive        1.0  \n",
       "6217          16.9        2006    usa  gasoline    all_wheel_drive        NaN  "
      ]
     },
     "execution_count": 202,
     "metadata": {},
     "output_type": "execute_result"
    }
   ],
   "source": [
    "df_train.head()"
   ]
  },
  {
   "cell_type": "code",
   "execution_count": 203,
   "id": "ed3025b9-478a-436d-af68-836ab85c1320",
   "metadata": {},
   "outputs": [
    {
     "data": {
      "text/plain": [
       "(5822, 1940, 1942)"
      ]
     },
     "execution_count": 203,
     "metadata": {},
     "output_type": "execute_result"
    }
   ],
   "source": [
    "len(df_train), len(df_val), len(df_test)"
   ]
  },
  {
   "cell_type": "code",
   "execution_count": 204,
   "id": "7716e463-b32d-4d2b-900c-74530fac1207",
   "metadata": {},
   "outputs": [],
   "source": [
    "df_train.reset_index(drop=True, inplace=True)\n",
    "df_val.reset_index(drop=True, inplace=True)\n",
    "df_test.reset_index(drop=True, inplace=True)"
   ]
  },
  {
   "cell_type": "code",
   "execution_count": 205,
   "id": "79c53e36-a12b-47b4-87b3-010dc976e0a8",
   "metadata": {},
   "outputs": [],
   "source": [
    "#Base features\n",
    "base_features = ['engine_displacement', 'horsepower', 'vehicle_weight', 'model_year']"
   ]
  },
  {
   "cell_type": "code",
   "execution_count": 227,
   "id": "aad5916e-d57b-4c0e-bc67-7e54520694d7",
   "metadata": {},
   "outputs": [],
   "source": [
    "#Preapre dataset function\n",
    "def prepare_X(df, val):\n",
    "    df_new = df.copy()\n",
    "    df_new = df_new[base_features]\n",
    "    df_new['horsepower'] = df_new['horsepower'].fillna(val)\n",
    "\n",
    "    return df_new\n",
    "\n",
    "#Weights calculation function\n",
    "def weights(X, Y, r):\n",
    "    ones = np.ones(len(X))\n",
    "    X = np.column_stack([ones, X])\n",
    "\n",
    "    XTX = X.T.dot(X)\n",
    "    XTX = XTX + r * np.eye(len(XTX))\n",
    "    XTX_inv = np.linalg.inv(XTX)\n",
    "\n",
    "    w = XTX_inv.dot(X.T).dot(Y)\n",
    "    \n",
    "    return w\n",
    "\n",
    "#RMSE calculation function\n",
    "def RMSE(y_pred, y_val):\n",
    "    err = y_pred - y_val\n",
    "    sq_err = err ** 2\n",
    "    mse = sq_err.mean()\n",
    "    rmse = np.sqrt(mse)\n",
    "\n",
    "    return rmse"
   ]
  },
  {
   "cell_type": "code",
   "execution_count": 228,
   "id": "4abd7d56-e98b-4591-b096-42f522939372",
   "metadata": {},
   "outputs": [
    {
     "data": {
      "text/plain": [
       "np.float64(0.52)"
      ]
     },
     "execution_count": 228,
     "metadata": {},
     "output_type": "execute_result"
    }
   ],
   "source": [
    "#Filling NA with 0 and no regularization\n",
    "x_train = prepare_X(df_train, 0)\n",
    "w = weights(x_train, y_train, 0)\n",
    "\n",
    "x_final = np.column_stack([np.ones(len(x_train)), x_train])\n",
    "y_pred = x_final.dot(w)\n",
    "\n",
    "round(RMSE(y_pred, y_train), 2)"
   ]
  },
  {
   "cell_type": "code",
   "execution_count": 229,
   "id": "13d11efa-ec26-4049-aa2a-cb011ee0b795",
   "metadata": {},
   "outputs": [
    {
     "data": {
      "image/png": "[encoded data removed]",
      "text/plain": [
       "<Figure size 640x480 with 1 Axes>"
      ]
     },
     "metadata": {},
     "output_type": "display_data"
    }
   ],
   "source": [
    "sns.histplot(y_pred, bins = 30, color='blue', alpha=0.8)\n",
    "sns.histplot(y_train, bins = 30, color='green', alpha=0.8)\n",
    "plt.show()"
   ]
  },
  {
   "cell_type": "code",
   "execution_count": 230,
   "id": "7c7118d3-1c3f-4534-ac9a-97d4827318f9",
   "metadata": {},
   "outputs": [
    {
     "data": {
      "text/plain": [
       "np.float64(0.52)"
      ]
     },
     "execution_count": 230,
     "metadata": {},
     "output_type": "execute_result"
    }
   ],
   "source": [
    "#Validating the model\n",
    "x_train = prepare_X(df_val, 0)\n",
    "\n",
    "x_final = np.column_stack([np.ones(len(x_train)), x_train])\n",
    "y_pred = x_final.dot(w)\n",
    "\n",
    "round(RMSE(y_pred, y_val), 2)"
   ]
  },
  {
   "cell_type": "code",
   "execution_count": 231,
   "id": "8b4e43f9-c77c-4f9b-ac20-2d1e5f5c84f7",
   "metadata": {},
   "outputs": [
    {
     "data": {
      "image/png": "[encoded data removed]",
      "text/plain": [
       "<Figure size 640x480 with 1 Axes>"
      ]
     },
     "metadata": {},
     "output_type": "display_data"
    }
   ],
   "source": [
    "sns.histplot(y_pred, bins = 30, color='blue', alpha=0.8)\n",
    "sns.histplot(y_val, bins = 30, color='green', alpha=0.8)\n",
    "plt.show()"
   ]
  },
  {
   "cell_type": "code",
   "execution_count": 232,
   "id": "9ffc2310-8037-473d-9bea-b33bbae8982c",
   "metadata": {},
   "outputs": [
    {
     "data": {
      "text/plain": [
       "np.float64(0.46)"
      ]
     },
     "execution_count": 232,
     "metadata": {},
     "output_type": "execute_result"
    }
   ],
   "source": [
    "#Filling NA with mode and no regularization\n",
    "x_train = prepare_X(df_train, df_train.horsepower.mean())\n",
    "w = weights(x_train, y_train, 0)\n",
    "\n",
    "x_final = np.column_stack([np.ones(len(x_train)), x_train])\n",
    "y_pred = x_final.dot(w)\n",
    "\n",
    "round(RMSE(y_pred, y_train), 2)"
   ]
  },
  {
   "cell_type": "code",
   "execution_count": 233,
   "id": "b0c60684-da4b-4b23-b86d-48cbb01ba34c",
   "metadata": {},
   "outputs": [
    {
     "data": {
      "text/plain": [
       "np.float64(0.46)"
      ]
     },
     "execution_count": 233,
     "metadata": {},
     "output_type": "execute_result"
    }
   ],
   "source": [
    "#Validating the model\n",
    "x_train = prepare_X(df_val, df_val.horsepower.mean())\n",
    "\n",
    "x_final = np.column_stack([np.ones(len(x_train)), x_train])\n",
    "y_pred = x_final.dot(w)\n",
    "\n",
    "round(RMSE(y_pred, y_val), 2)"
   ]
  },
  {
   "cell_type": "code",
   "execution_count": 240,
   "id": "9b1f2118-85b8-4ef2-bf8d-b3e18fad561d",
   "metadata": {},
   "outputs": [
    {
     "name": "stdout",
     "output_type": "stream",
     "text": [
      "0 28.810749329447 0.52\n",
      "0.01 24.910505404130504 0.52\n",
      "0.1 11.22918818158919 0.52\n",
      "1 1.7296519833302575 0.52\n",
      "5 0.36338861705603326 0.52\n",
      "10 0.18285102562996358 0.52\n",
      "100 0.018396690310965032 0.52\n"
     ]
    }
   ],
   "source": [
    "#Filling NA with 0 but with regularization - Test on validation model\n",
    "for r in [0, 0.01, 0.1, 1, 5, 10, 100]:\n",
    "    x_train = prepare_X(df_train, 0)\n",
    "    w = weights(x_train, y_train, r)\n",
    "\n",
    "    x_train = prepare_X(df_val, 0)\n",
    "    \n",
    "    x_final = np.column_stack([np.ones(len(x_train)), x_train])\n",
    "    y_pred = x_final.dot(w)\n",
    "    \n",
    "    print(r, w[0], round(RMSE(y_pred, y_val), 2))"
   ]
  },
  {
   "cell_type": "markdown",
   "id": "2ded3a18-01e2-462b-9f85-14f18ebe17a4",
   "metadata": {},
   "source": [
    "## Question 5 - Combining all the above code into one function for calculating results at different seeds"
   ]
  },
  {
   "cell_type": "code",
   "execution_count": 249,
   "id": "cc045dcf-85fe-4a22-b702-f6ef2c230f95",
   "metadata": {},
   "outputs": [],
   "source": [
    "rmse_list = []\n",
    "\n",
    "for seed in [0, 1, 2, 3, 4, 5, 6, 7, 8, 9]:\n",
    "    # Setting up validation framework\n",
    "    \n",
    "    n_train = int(0.6 * len(df))\n",
    "    n_val = int(0.2 * len(df))\n",
    "    n_test = int(len(df) - (n_train + n_val))\n",
    "    \n",
    "    idx = np.arange(len(df))\n",
    "    np.random.seed(seed)\n",
    "    np.random.shuffle(idx)\n",
    "    \n",
    "    df_train = df.iloc[idx[:n_train], :].copy()\n",
    "    df_val = df.iloc[idx[n_train:n_train+n_val], :].copy()\n",
    "    df_test = df.iloc[idx[n_train+n_val:], :].copy()\n",
    "    \n",
    "    y_train = df_train['fuel_efficiency_mpg'].values\n",
    "    y_val = df_val['fuel_efficiency_mpg'].values\n",
    "    y_test = df_test['fuel_efficiency_mpg'].values\n",
    "    \n",
    "    del df_train['fuel_efficiency_mpg']\n",
    "    del df_val['fuel_efficiency_mpg']\n",
    "    del df_test['fuel_efficiency_mpg']\n",
    "    \n",
    "    df_train.reset_index(drop=True, inplace=True)\n",
    "    df_val.reset_index(drop=True, inplace=True)\n",
    "    df_test.reset_index(drop=True, inplace=True)\n",
    "    \n",
    "    #Base features\n",
    "    base_features = ['engine_displacement', 'horsepower', 'vehicle_weight', 'model_year']\n",
    "    \n",
    "    #Preapre dataset function\n",
    "    def prepare_X(df, val):\n",
    "        df_new = df.copy()\n",
    "        df_new = df_new[base_features]\n",
    "        df_new['horsepower'] = df_new['horsepower'].fillna(val)\n",
    "    \n",
    "        return df_new\n",
    "    \n",
    "    #Weights calculation function\n",
    "    def weights(X, Y, r):\n",
    "        ones = np.ones(len(X))\n",
    "        X = np.column_stack([ones, X])\n",
    "    \n",
    "        XTX = X.T.dot(X)\n",
    "        XTX = XTX + r * np.eye(len(XTX))\n",
    "        XTX_inv = np.linalg.inv(XTX)\n",
    "    \n",
    "        w = XTX_inv.dot(X.T).dot(Y)\n",
    "        \n",
    "        return w\n",
    "    \n",
    "    #RMSE calculation function\n",
    "    def RMSE(y_pred, y_val):\n",
    "        err = y_pred - y_val\n",
    "        sq_err = err ** 2\n",
    "        mse = sq_err.mean()\n",
    "        rmse = np.sqrt(mse)\n",
    "    \n",
    "        return rmse\n",
    "    \n",
    "    #Filling NA with 0 and no regularization\n",
    "    x_train = prepare_X(df_train, 0)\n",
    "    w = weights(x_train, y_train, 0)\n",
    "    \n",
    "    x_train = prepare_X(df_val, 0)\n",
    "    \n",
    "    x_final = np.column_stack([np.ones(len(x_train)), x_train])\n",
    "    y_pred = x_final.dot(w)\n",
    "    \n",
    "    rmse_list.append(RMSE(y_pred, y_val))"
   ]
  },
  {
   "cell_type": "code",
   "execution_count": 250,
   "id": "f678c8d3-05bf-4d94-9282-ce59f78f1a23",
   "metadata": {},
   "outputs": [
    {
     "data": {
      "text/plain": [
       "[np.float64(0.5210993169601764),\n",
       " np.float64(0.5218422383656935),\n",
       " np.float64(0.5230384520042022),\n",
       " np.float64(0.5161215334520274),\n",
       " np.float64(0.5111869530280668),\n",
       " np.float64(0.5286833855544149),\n",
       " np.float64(0.5322418918567279),\n",
       " np.float64(0.5095258233932748),\n",
       " np.float64(0.5149083792268891),\n",
       " np.float64(0.5131330922627657)]"
      ]
     },
     "execution_count": 250,
     "metadata": {},
     "output_type": "execute_result"
    }
   ],
   "source": [
    "rmse_list"
   ]
  },
  {
   "cell_type": "code",
   "execution_count": 255,
   "id": "f8778f2f-d89f-4702-851d-ca5feb6486cb",
   "metadata": {},
   "outputs": [
    {
     "data": {
      "text/plain": [
       "np.float64(0.007)"
      ]
     },
     "execution_count": 255,
     "metadata": {},
     "output_type": "execute_result"
    }
   ],
   "source": [
    "round(np.std(rmse_list), 3)"
   ]
  },
  {
   "cell_type": "markdown",
   "id": "25df6fe7-165e-4b7a-9254-7d15c412b91c",
   "metadata": {},
   "source": [
    "## Question 6 - Seed 9 and combine val and test datasets - with regularization"
   ]
  },
  {
   "cell_type": "code",
   "execution_count": 256,
   "id": "fc49eef9-ce6d-46ee-a195-c9a24370c61f",
   "metadata": {},
   "outputs": [
    {
     "ename": "ValueError",
     "evalue": "all the input array dimensions except for the concatenation axis must match exactly, but along dimension 0, the array at index 0 has size 5822 and the array at index 1 has size 1940",
     "output_type": "error",
     "traceback": [
      "\u001b[0;31m---------------------------------------------------------------------------\u001b[0m",
      "\u001b[0;31mValueError\u001b[0m                                Traceback (most recent call last)",
      "Cell \u001b[0;32mIn[256], line 62\u001b[0m\n\u001b[1;32m     59\u001b[0m     \u001b[38;5;28;01mreturn\u001b[39;00m rmse\n\u001b[1;32m     61\u001b[0m \u001b[38;5;66;03m#Filling NA with 0 and no regularization\u001b[39;00m\n\u001b[0;32m---> 62\u001b[0m df_combo \u001b[38;5;241m=\u001b[39m np\u001b[38;5;241m.\u001b[39mcolumn_stack([df_train, df_val])\n\u001b[1;32m     63\u001b[0m y_combo \u001b[38;5;241m=\u001b[39m np\u001b[38;5;241m.\u001b[39mconcatenate([y_train, y_val])\n\u001b[1;32m     64\u001b[0m x_train \u001b[38;5;241m=\u001b[39m prepare_X(df_combo, \u001b[38;5;241m0\u001b[39m)\n",
      "File \u001b[0;32m/opt/anaconda3/lib/python3.13/site-packages/numpy/lib/_shape_base_impl.py:674\u001b[0m, in \u001b[0;36mcolumn_stack\u001b[0;34m(tup)\u001b[0m\n\u001b[1;32m    672\u001b[0m         arr \u001b[38;5;241m=\u001b[39m array(arr, copy\u001b[38;5;241m=\u001b[39m\u001b[38;5;28;01mNone\u001b[39;00m, subok\u001b[38;5;241m=\u001b[39m\u001b[38;5;28;01mTrue\u001b[39;00m, ndmin\u001b[38;5;241m=\u001b[39m\u001b[38;5;241m2\u001b[39m)\u001b[38;5;241m.\u001b[39mT\n\u001b[1;32m    673\u001b[0m     arrays\u001b[38;5;241m.\u001b[39mappend(arr)\n\u001b[0;32m--> 674\u001b[0m \u001b[38;5;28;01mreturn\u001b[39;00m _nx\u001b[38;5;241m.\u001b[39mconcatenate(arrays, \u001b[38;5;241m1\u001b[39m)\n",
      "\u001b[0;31mValueError\u001b[0m: all the input array dimensions except for the concatenation axis must match exactly, but along dimension 0, the array at index 0 has size 5822 and the array at index 1 has size 1940"
     ]
    }
   ],
   "source": [
    "for seed in [9]:\n",
    "    # Setting up validation framework\n",
    "    \n",
    "    n_train = int(0.6 * len(df))\n",
    "    n_val = int(0.2 * len(df))\n",
    "    n_test = int(len(df) - (n_train + n_val))\n",
    "    \n",
    "    idx = np.arange(len(df))\n",
    "    np.random.seed(seed)\n",
    "    np.random.shuffle(idx)\n",
    "    \n",
    "    df_train = df.iloc[idx[:n_train], :].copy()\n",
    "    df_val = df.iloc[idx[n_train:n_train+n_val], :].copy()\n",
    "    df_test = df.iloc[idx[n_train+n_val:], :].copy()\n",
    "    \n",
    "    y_train = df_train['fuel_efficiency_mpg'].values\n",
    "    y_val = df_val['fuel_efficiency_mpg'].values\n",
    "    y_test = df_test['fuel_efficiency_mpg'].values\n",
    "    \n",
    "    del df_train['fuel_efficiency_mpg']\n",
    "    del df_val['fuel_efficiency_mpg']\n",
    "    del df_test['fuel_efficiency_mpg']\n",
    "    \n",
    "    df_train.reset_index(drop=True, inplace=True)\n",
    "    df_val.reset_index(drop=True, inplace=True)\n",
    "    df_test.reset_index(drop=True, inplace=True)\n",
    "    \n",
    "    #Base features\n",
    "    base_features = ['engine_displacement', 'horsepower', 'vehicle_weight', 'model_year']\n",
    "    \n",
    "    #Preapre dataset function\n",
    "    def prepare_X(df, val):\n",
    "        df_new = df.copy()\n",
    "        df_new = df_new[base_features]\n",
    "        df_new['horsepower'] = df_new['horsepower'].fillna(val)\n",
    "    \n",
    "        return df_new\n",
    "    \n",
    "    #Weights calculation function\n",
    "    def weights(X, Y, r):\n",
    "        ones = np.ones(len(X))\n",
    "        X = np.column_stack([ones, X])\n",
    "    \n",
    "        XTX = X.T.dot(X)\n",
    "        XTX = XTX + r * np.eye(len(XTX))\n",
    "        XTX_inv = np.linalg.inv(XTX)\n",
    "    \n",
    "        w = XTX_inv.dot(X.T).dot(Y)\n",
    "        \n",
    "        return w\n",
    "    \n",
    "    #RMSE calculation function\n",
    "    def RMSE(y_pred, y_val):\n",
    "        err = y_pred - y_val\n",
    "        sq_err = err ** 2\n",
    "        mse = sq_err.mean()\n",
    "        rmse = np.sqrt(mse)\n",
    "    \n",
    "        return rmse\n",
    "    \n",
    "    #Filling NA with 0 and no regularization\n",
    "    df_combo = np.column_stack([df_train, df_val])\n",
    "    y_combo = np.concatenate([y_train, y_val])\n",
    "    x_train = prepare_X(df_combo, 0)\n",
    "    w = weights(x_train, y_combo, 0.001)\n",
    "    \n",
    "    x_train = prepare_X(df_test, 0)\n",
    "    \n",
    "    x_final = np.column_stack([np.ones(len(x_train)), x_train])\n",
    "    y_pred = x_final.dot(w)\n",
    "    \n",
    "    RMSE(y_pred, y_val)"
   ]
  },
  {
   "cell_type": "code",
   "execution_count": null,
   "id": "c31ab605-42ce-43b2-9d5a-9213d11cc530",
   "metadata": {},
   "outputs": [],
   "source": []
  }
 ],
 "metadata": {
  "kernelspec": {
   "display_name": "Python [conda env:base] *",
   "language": "python",
   "name": "conda-base-py"
  },
  "language_info": {
   "codemirror_mode": {
    "name": "ipython",
    "version": 3
   },
   "file_extension": ".py",
   "mimetype": "text/x-python",
   "name": "python",
   "nbconvert_exporter": "python",
   "pygments_lexer": "ipython3",
   "version": "3.13.5"
  }
 },
 "nbformat": 4,
 "nbformat_minor": 5
}
